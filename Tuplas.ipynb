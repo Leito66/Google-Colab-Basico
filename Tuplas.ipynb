{
  "nbformat": 4,
  "nbformat_minor": 0,
  "metadata": {
    "colab": {
      "name": "Tuplas.ipynb",
      "provenance": [],
      "authorship_tag": "ABX9TyPNjxBz6RDffCMyiFIHwNoI",
      "include_colab_link": true
    },
    "kernelspec": {
      "name": "python3",
      "display_name": "Python 3"
    },
    "language_info": {
      "name": "python"
    }
  },
  "cells": [
    {
      "cell_type": "markdown",
      "metadata": {
        "id": "view-in-github",
        "colab_type": "text"
      },
      "source": [
        "<a href=\"https://colab.research.google.com/github/Leito66/Google-Colab-Basico/blob/main/Tuplas.ipynb\" target=\"_parent\"><img src=\"https://colab.research.google.com/assets/colab-badge.svg\" alt=\"Open In Colab\"/></a>"
      ]
    },
    {
      "cell_type": "code",
      "execution_count": 7,
      "metadata": {
        "id": "dy_UdSziFPoR"
      },
      "outputs": [],
      "source": [
        "#Una tupla es similar a una lista, excepto que tiene una longitus fija y es inmutable"
      ]
    },
    {
      "cell_type": "code",
      "source": [
        "a = (5, 7, 'x', [5,1])\n",
        "print(a)"
      ],
      "metadata": {
        "colab": {
          "base_uri": "https://localhost:8080/"
        },
        "id": "vaF2ThSVFXtb",
        "outputId": "09273f47-90eb-4d3a-8901-9d7afb1c582e"
      },
      "execution_count": 8,
      "outputs": [
        {
          "output_type": "stream",
          "name": "stdout",
          "text": [
            "(5, 7, 'x', [5, 1])\n"
          ]
        }
      ]
    },
    {
      "cell_type": "code",
      "source": [
        "print(type(a))"
      ],
      "metadata": {
        "colab": {
          "base_uri": "https://localhost:8080/"
        },
        "id": "8xWACMslFtwH",
        "outputId": "db7ff01c-9649-43f8-f17e-8f92319885e2"
      },
      "execution_count": 9,
      "outputs": [
        {
          "output_type": "stream",
          "name": "stdout",
          "text": [
            "<class 'tuple'>\n"
          ]
        }
      ]
    },
    {
      "cell_type": "code",
      "source": [
        "#Cuidado al crear una tupla con ningún elemento  o con un elemento"
      ],
      "metadata": {
        "id": "qNI7ibIgGHFg"
      },
      "execution_count": null,
      "outputs": []
    },
    {
      "cell_type": "code",
      "source": [
        "m=() #para crear una tupla con ningún elemento\n",
        "print(type(m))"
      ],
      "metadata": {
        "colab": {
          "base_uri": "https://localhost:8080/"
        },
        "id": "oNAlyqGNGOHX",
        "outputId": "45b375bb-0323-4f47-9a1b-adb2ba5d0f57"
      },
      "execution_count": 11,
      "outputs": [
        {
          "output_type": "stream",
          "name": "stdout",
          "text": [
            "<class 'tuple'>\n"
          ]
        }
      ]
    },
    {
      "cell_type": "code",
      "source": [
        "k=(3) #Ejemplo de cómo NO hacer una tupla de un solo elemento\n",
        "print(type(k))"
      ],
      "metadata": {
        "colab": {
          "base_uri": "https://localhost:8080/"
        },
        "id": "K_1A8qWrGgCx",
        "outputId": "9f1914a4-f4f2-44b1-b98c-ac39bac2540a"
      },
      "execution_count": 12,
      "outputs": [
        {
          "output_type": "stream",
          "name": "stdout",
          "text": [
            "<class 'int'>\n"
          ]
        }
      ]
    },
    {
      "cell_type": "code",
      "source": [
        "l=([1,2]) #Ejemplo de cómo NO hacer una tupla sino una lista\n",
        "print(type(l))"
      ],
      "metadata": {
        "colab": {
          "base_uri": "https://localhost:8080/"
        },
        "id": "jVpvAye8GvFA",
        "outputId": "fc52b628-34aa-452e-cd90-e32d7be9dd12"
      },
      "execution_count": 13,
      "outputs": [
        {
          "output_type": "stream",
          "name": "stdout",
          "text": [
            "<class 'list'>\n"
          ]
        }
      ]
    },
    {
      "cell_type": "code",
      "source": [
        "#¿Cómo hacer de los anteriores dos ejemplos dos tuplas?"
      ],
      "metadata": {
        "id": "MXGaKZKLHGnf"
      },
      "execution_count": null,
      "outputs": []
    },
    {
      "cell_type": "code",
      "source": [
        "k=(3,)\n",
        "print(type(k))"
      ],
      "metadata": {
        "colab": {
          "base_uri": "https://localhost:8080/"
        },
        "id": "fFve4sKeHNbA",
        "outputId": "ba4b4f2b-62ae-4056-8cdb-1ae0d0076f4e"
      },
      "execution_count": 14,
      "outputs": [
        {
          "output_type": "stream",
          "name": "stdout",
          "text": [
            "<class 'tuple'>\n"
          ]
        }
      ]
    },
    {
      "cell_type": "code",
      "source": [
        "l=([1,2],)\n",
        "print(type(l))"
      ],
      "metadata": {
        "colab": {
          "base_uri": "https://localhost:8080/"
        },
        "id": "u30Tw_DaPa3N",
        "outputId": "fad2fc13-dabf-4b42-daf1-2572cc753af8"
      },
      "execution_count": 15,
      "outputs": [
        {
          "output_type": "stream",
          "name": "stdout",
          "text": [
            "<class 'tuple'>\n"
          ]
        }
      ]
    }
  ]
}